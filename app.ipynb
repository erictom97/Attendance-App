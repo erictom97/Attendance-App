{
 "cells": [
  {
   "cell_type": "code",
   "execution_count": null,
   "metadata": {},
   "outputs": [],
   "source": [
    "import face_recognition\n",
    "import os\n",
    "\n",
    "# Directory containing images of known individuals\n",
    "known_faces_dir = \"known_faces\"\n",
    "known_faces = []\n",
    "known_names = []\n",
    "\n",
    "# Load and encode known faces\n",
    "for filename in os.listdir(known_faces_dir):\n",
    "    image_path = os.path.join(known_faces_dir, filename)\n",
    "    image = face_recognition.load_image_file(image_path)\n",
    "    encoding = face_recognition.face_encodings(image)[0]\n",
    "    known_faces.append(encoding)\n",
    "    known_names.append(os.path.splitext(filename)[0])"
   ]
  }
 ],
 "metadata": {
  "language_info": {
   "name": "python"
  }
 },
 "nbformat": 4,
 "nbformat_minor": 2
}
